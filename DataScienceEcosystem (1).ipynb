{
 "cells": [
  {
   "cell_type": "markdown",
   "id": "0a31021c-df5b-4ea5-9701-05321d4baec5",
   "metadata": {},
   "source": [
    "# Data Science Tools and Ecosystem"
   ]
  },
  {
   "cell_type": "markdown",
   "id": "671d5acd-1887-4ccd-b6f7-43b25c855546",
   "metadata": {},
   "source": [
    "**Author**\n",
    "\n",
    "Luke Ganalon"
   ]
  },
  {
   "cell_type": "markdown",
   "id": "33f01a49-108e-470a-a9a0-b025ae836f8d",
   "metadata": {},
   "source": [
    "**Objectives:**\n",
    "- List popular languages for Data Science\n",
    "- List common libraries for Data Scientists\n",
    "- Create arithmetic expressions"
   ]
  },
  {
   "cell_type": "markdown",
   "id": "20b8ad50-7a35-43af-a74f-cc4c05eb344e",
   "metadata": {},
   "source": [
    "In this notebook, Data Science Tools and Ecosystem are summarized."
   ]
  },
  {
   "cell_type": "markdown",
   "id": "affdcf49-79fa-4646-ab4a-7ba910c98adf",
   "metadata": {},
   "source": [
    "Some of the popular languages that Data Scientists use are:\n",
    "1. Python\n",
    "2. R\n",
    "3. SQL"
   ]
  },
  {
   "cell_type": "markdown",
   "id": "8468c65c-4abb-45f7-a36a-f7729f9962d0",
   "metadata": {},
   "source": [
    "Some of the commonly used libraries used by Data Scientists include:\n",
    "- Pandas\n",
    "- Matplotlib \n",
    "- Keras"
   ]
  },
  {
   "cell_type": "markdown",
   "id": "90060c4b-dcc8-4a9d-926b-b97ab989589d",
   "metadata": {},
   "source": [
    "| Data Science Tools |\n",
    "| ------------------ |\n",
    "|        Git         |\n",
    "|  Apache Subversion |\n",
    "|     Eclipse IDE    |"
   ]
  },
  {
   "cell_type": "markdown",
   "id": "61cb7218-5b12-4858-8f36-5db9f3d1c88c",
   "metadata": {},
   "source": [
    "***Below are a few examples of evaluating arithmetic expressions in Python***"
   ]
  },
  {
   "cell_type": "code",
   "execution_count": 1,
   "id": "1a78bc6a-e9de-4e04-ae89-32058a6c9ad4",
   "metadata": {},
   "outputs": [
    {
     "data": {
      "text/plain": [
       "17"
      ]
     },
     "execution_count": 1,
     "metadata": {},
     "output_type": "execute_result"
    }
   ],
   "source": [
    "# This a simple arithmetic expression to mutiply then add integers\n",
    "(3*4)+5"
   ]
  },
  {
   "cell_type": "code",
   "execution_count": 5,
   "id": "b0e03e0d-c3ee-4eb9-875e-170c1486d399",
   "metadata": {},
   "outputs": [
    {
     "name": "stdout",
     "output_type": "stream",
     "text": [
      "200 minutes is equal to 3.3333333333333335 hours\n"
     ]
    }
   ],
   "source": [
    "# This will convert 200 minutes to hours by diving by 60\n",
    "h = 200 / 60\n",
    "print(\"200 minutes is equal to\", h, \"hours\")\n"
   ]
  }
 ],
 "metadata": {
  "kernelspec": {
   "display_name": "Python",
   "language": "python",
   "name": "conda-env-python-py"
  },
  "language_info": {
   "codemirror_mode": {
    "name": "ipython",
    "version": 3
   },
   "file_extension": ".py",
   "mimetype": "text/x-python",
   "name": "python",
   "nbconvert_exporter": "python",
   "pygments_lexer": "ipython3",
   "version": "3.7.12"
  }
 },
 "nbformat": 4,
 "nbformat_minor": 5
}
